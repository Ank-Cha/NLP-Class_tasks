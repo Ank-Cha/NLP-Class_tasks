{
 "cells": [
  {
   "cell_type": "code",
   "execution_count": 20,
   "metadata": {},
   "outputs": [
    {
     "name": "stdout",
     "output_type": "stream",
     "text": [
      "[[1.         0.17660491 0.45618783]\n",
      " [0.17660491 1.         0.3173454 ]\n",
      " [0.45618783 0.3173454  1.        ]]\n"
     ]
    }
   ],
   "source": [
    "from sklearn.metrics.pairwise import cosine_similarity\n",
    "from sklearn.feature_extraction.text import CountVectorizer\n",
    "\n",
    "vect=CountVectorizer(binary=True)\n",
    "art1=\"\"\"If there is a phrase I would prefer to retire from online bios, personal or professional, it is, “I love travel.” Or some approximation of that sentiment. To clarify, I am not against travellers or those who proudly flaunt their passion for travel. On the contrary, editing a travel magazine has now made me oddly protective of travellers and their ilk. My submission is that “love to travel,” suggested so casually, just doesn’t feel adequate to the depth of emotion it sparks in true devotees.\n",
    "In February, the month of love as endowed by our great gifting industrial complex, we are wrestling with what “love for travel” means in tangible, life-affecting terms. The early throes of discovering travel might not be too dissimilar to the beginnings of a feverish affair. A fleeting scene, sound or feeling that at first arouses, then enchants and eventually, lures us into a hypnotic state, evoking woolly-eyed reveries about what could be.\"\"\"\n",
    "art2=\"\"\" Summer is a charming flirt. Easy-going and casual. Summer doesn’t huff and puff to win our affections. It has us at “Hello.” Winter broods like the tortured protagonist of big fat Russian novel. It is daunting and dramatic, burning with a slow intensity.\n",
    "The season’s reputation precedes itself, and often, not in a good way. It has a way of whittling down everything to its bare bones. Even relationships not attuned to its ebbs and flows can fray. At a dinner conversation I once attended, I listened in bemusement as a recent divorcee made the case that it was the Scandinavian frost that had cooled his ex-wife’s ardour. How original.\"\"\"\n",
    "art3=\"\"\"One of the finer books I read this year was John Kaag’s Hiking With Nietzsche, in which Kaag, a professor of philosophy, rekindles his passion for the German thinker while tracing picturesque hiking trails in the mountains of Switzerland. It’s a near-precise rendering of the travelogue as a self-help book. A young Kaag was an avowed Nietzsche acolyte but given the ravages of responsibilities and adulthood, the writer put his affinity to test by undertaking physically enduring hikes through the Alps, revisiting haunts that the philosopher escaped to, in search of solitude and salve. The journey’s demands, coupled with his own inner turmoil, are catnip for anybody feeling at cross purposes with their own life.\n",
    "In the book, Kaag quotes Neitzsche writing to his mother after he had spent time in Splügen, “I was overcome by the desire to remain here… this high alpine valley… There are pure, strong gusts of air, hills and boulders of all shapes… But what pleases me the most are the splendid highroads over which I walk for hours.” Travel as the answer to searching questions is hardly a radical idea but what’s endearing about the book is that it subtly confirms a basic tenet of why we go on these journeys in the first place. Sometimes, being on the move matters more than anything else. Meandering through his hikes with his wife and child, Kaag faces endangering moments. He doesn’t always accomplish what he set out to do. “Slipping” is as important as climbing, he insists, and he persists.\"\"\"\n",
    "\n",
    "corpus = [art1,art2]\n",
    "vect.fit(corpus)\n",
    "similarity = cosine_similarity(vect.transform([art1,art2,art3]))\n",
    "print(similarity)"
   ]
  },
  {
   "cell_type": "code",
   "execution_count": null,
   "metadata": {},
   "outputs": [],
   "source": []
  }
 ],
 "metadata": {
  "kernelspec": {
   "display_name": "Python 3",
   "language": "python",
   "name": "python3"
  },
  "language_info": {
   "codemirror_mode": {
    "name": "ipython",
    "version": 3
   },
   "file_extension": ".py",
   "mimetype": "text/x-python",
   "name": "python",
   "nbconvert_exporter": "python",
   "pygments_lexer": "ipython3",
   "version": "3.7.0"
  }
 },
 "nbformat": 4,
 "nbformat_minor": 2
}
